{
  "nbformat": 4,
  "nbformat_minor": 0,
  "metadata": {
    "colab": {
      "provenance": [],
      "mount_file_id": "14zQbDSyOzDB-Zd0mL2LTKakdMVplQ8s3",
      "authorship_tag": "ABX9TyNpUiDt0THc6hYvRY7kiDao",
      "include_colab_link": true
    },
    "kernelspec": {
      "name": "python3",
      "display_name": "Python 3"
    },
    "language_info": {
      "name": "python"
    }
  },
  "cells": [
    {
      "cell_type": "markdown",
      "metadata": {
        "id": "view-in-github",
        "colab_type": "text"
      },
      "source": [
        "<a href=\"https://colab.research.google.com/github/akshayonly/youtube-to-notebooklm/blob/main/YouTube_Transcript_Retrival.ipynb\" target=\"_parent\"><img src=\"https://colab.research.google.com/assets/colab-badge.svg\" alt=\"Open In Colab\"/></a>"
      ]
    },
    {
      "cell_type": "markdown",
      "source": [
        "# Packages"
      ],
      "metadata": {
        "id": "JRGpXdEE7yu6"
      }
    },
    {
      "cell_type": "code",
      "source": [
        "pip install youtube-transcript-api yt-dlp"
      ],
      "metadata": {
        "colab": {
          "base_uri": "https://localhost:8080/"
        },
        "id": "VkACjZw8V8Zd",
        "outputId": "e93bfbd3-2c44-4e21-ff13-ae4fd6466c34"
      },
      "execution_count": 1,
      "outputs": [
        {
          "output_type": "stream",
          "name": "stdout",
          "text": [
            "Collecting youtube-transcript-api\n",
            "  Downloading youtube_transcript_api-1.1.0-py3-none-any.whl.metadata (23 kB)\n",
            "Collecting yt-dlp\n",
            "  Downloading yt_dlp-2025.6.9-py3-none-any.whl.metadata (174 kB)\n",
            "\u001b[2K     \u001b[90m━━━━━━━━━━━━━━━━━━━━━━━━━━━━━━━━━━━━━━━\u001b[0m \u001b[32m174.3/174.3 kB\u001b[0m \u001b[31m3.8 MB/s\u001b[0m eta \u001b[36m0:00:00\u001b[0m\n",
            "\u001b[?25hRequirement already satisfied: defusedxml<0.8.0,>=0.7.1 in /usr/local/lib/python3.11/dist-packages (from youtube-transcript-api) (0.7.1)\n",
            "Requirement already satisfied: requests in /usr/local/lib/python3.11/dist-packages (from youtube-transcript-api) (2.32.3)\n",
            "Requirement already satisfied: charset-normalizer<4,>=2 in /usr/local/lib/python3.11/dist-packages (from requests->youtube-transcript-api) (3.4.2)\n",
            "Requirement already satisfied: idna<4,>=2.5 in /usr/local/lib/python3.11/dist-packages (from requests->youtube-transcript-api) (3.10)\n",
            "Requirement already satisfied: urllib3<3,>=1.21.1 in /usr/local/lib/python3.11/dist-packages (from requests->youtube-transcript-api) (2.4.0)\n",
            "Requirement already satisfied: certifi>=2017.4.17 in /usr/local/lib/python3.11/dist-packages (from requests->youtube-transcript-api) (2025.4.26)\n",
            "Downloading youtube_transcript_api-1.1.0-py3-none-any.whl (485 kB)\n",
            "\u001b[2K   \u001b[90m━━━━━━━━━━━━━━━━━━━━━━━━━━━━━━━━━━━━━━━━\u001b[0m \u001b[32m485.7/485.7 kB\u001b[0m \u001b[31m29.1 MB/s\u001b[0m eta \u001b[36m0:00:00\u001b[0m\n",
            "\u001b[?25hDownloading yt_dlp-2025.6.9-py3-none-any.whl (3.3 MB)\n",
            "\u001b[2K   \u001b[90m━━━━━━━━━━━━━━━━━━━━━━━━━━━━━━━━━━━━━━━━\u001b[0m \u001b[32m3.3/3.3 MB\u001b[0m \u001b[31m36.5 MB/s\u001b[0m eta \u001b[36m0:00:00\u001b[0m\n",
            "\u001b[?25hInstalling collected packages: yt-dlp, youtube-transcript-api\n",
            "Successfully installed youtube-transcript-api-1.1.0 yt-dlp-2025.6.9\n"
          ]
        }
      ]
    },
    {
      "cell_type": "markdown",
      "source": [
        "# Main"
      ],
      "metadata": {
        "id": "iF4gdtD-71xM"
      }
    },
    {
      "cell_type": "code",
      "source": [
        "import subprocess, json, re\n",
        "import pandas as pd\n",
        "from youtube_transcript_api import (\n",
        "    YouTubeTranscriptApi, TranscriptsDisabled,\n",
        "    NoTranscriptFound, VideoUnavailable\n",
        ")\n",
        "\n",
        "# Fetch all video URLs from a YouTube playlist\n",
        "def get_playlist_urls(playlist_url):\n",
        "    try:\n",
        "        result = subprocess.run(\n",
        "            ['yt-dlp', '--flat-playlist', '--dump-json', playlist_url],\n",
        "            capture_output=True, text=True, check=True\n",
        "        )\n",
        "        return [\n",
        "            f\"https://www.youtube.com/watch?v={json.loads(line)['id']}\"\n",
        "            for line in result.stdout.strip().split('\\n')\n",
        "        ]\n",
        "    except subprocess.CalledProcessError as e:\n",
        "        print(\"yt-dlp error:\", e)\n",
        "        return []\n",
        "\n",
        "# Get playlist title\n",
        "def get_playlist_title(playlist_url):\n",
        "    try:\n",
        "        result = subprocess.run(\n",
        "            ['yt-dlp', '--flat-playlist', '--dump-single-json', playlist_url],\n",
        "            capture_output=True, text=True, check=True\n",
        "        )\n",
        "        return json.loads(result.stdout).get('title', 'Unknown Playlist')\n",
        "    except Exception as e:\n",
        "        print(f\"Failed to fetch playlist title: {e}\")\n",
        "        return \"Unknown Playlist\"\n",
        "\n",
        "# Extract video ID from URL\n",
        "def extract_video_id(url):\n",
        "    match = re.search(r'(?:v=|\\/)([0-9A-Za-z_-]{11})', url)\n",
        "    if not match:\n",
        "        raise ValueError(f\"Invalid YouTube URL: {url}\")\n",
        "    return match.group(1)\n",
        "\n",
        "# Get video title\n",
        "def get_video_title(url):\n",
        "    try:\n",
        "        result = subprocess.run(\n",
        "            ['yt-dlp', '--skip-download', '--print-json', url],\n",
        "            capture_output=True, text=True, check=True\n",
        "        )\n",
        "        return json.loads(result.stdout).get('title', 'Unknown Title')\n",
        "    except:\n",
        "        return \"Unknown Title\"\n",
        "\n",
        "# Clean unwanted annotations ([Music], [Applause], etc.)\n",
        "def clean_transcript(text):\n",
        "    return re.sub(r'\\[.*?\\]', '', text).replace('  ', ' ').strip()\n",
        "\n",
        "# Get video transcript with annotations removed\n",
        "def get_transcript_text(video_id):\n",
        "    try:\n",
        "        raw_transcript = YouTubeTranscriptApi.get_transcript(video_id)\n",
        "    except NoTranscriptFound:\n",
        "        transcripts = YouTubeTranscriptApi.list_transcripts(video_id)\n",
        "        raw_transcript = transcripts.find_transcript(\n",
        "            [t.language_code for t in transcripts]\n",
        "        ).fetch()\n",
        "    except (TranscriptsDisabled, VideoUnavailable):\n",
        "        raise RuntimeError(\"Transcript disabled or video unavailable.\")\n",
        "\n",
        "    transcript_text = ' '.join(\n",
        "        entry['text'].strip() for entry in raw_transcript if entry['text'].strip()\n",
        "    )\n",
        "\n",
        "    return clean_transcript(transcript_text)\n",
        "\n",
        "# Process single video\n",
        "def process_video(url):\n",
        "    try:\n",
        "        video_id = extract_video_id(url)\n",
        "        title = get_video_title(url)\n",
        "        transcript = get_transcript_text(video_id)\n",
        "        print(f\"Fetched: {title}\")\n",
        "        return {'video_id': video_id, 'title': title, 'transcript': transcript}\n",
        "    except Exception as e:\n",
        "        print(f\"Skipped: {url} | Reason: {e}\")\n",
        "        return None\n",
        "\n",
        "# Main pipeline\n",
        "def main(playlist_url):\n",
        "    print(f\"Processing playlist: {playlist_url}\")\n",
        "\n",
        "    playlist_title = get_playlist_title(playlist_url)\n",
        "    video_urls = get_playlist_urls(playlist_url)\n",
        "\n",
        "    print(f\"Found {len(video_urls)} videos in playlist: {playlist_title}\\n\")\n",
        "\n",
        "    results = []\n",
        "    for url in video_urls:\n",
        "        data = process_video(url)\n",
        "        if data:\n",
        "            data['playlist_title'] = playlist_title\n",
        "            results.append(data)\n",
        "\n",
        "    df = pd.DataFrame(results)\n",
        "    print(f\"\\nCompleted transcripts extraction for {len(df)} videos.\")\n",
        "\n",
        "    filename = f\"{playlist_title.replace(' ', '_').lower()}.txt\"\n",
        "    with open(filename, 'w', encoding='utf-8') as f:\n",
        "        f.write(f\"Playlist Title: {playlist_title}\\n\\n\")\n",
        "        for _, row in df.iterrows():\n",
        "            f.write(row['title'].strip() + \"\\n\")\n",
        "            f.write(row['transcript'].strip() + \"\\n\\n\")\n",
        "\n",
        "    print(f\"Transcript file saved as: {filename}\")\n",
        "    return df\n",
        "\n",
        "# Run pipeline\n",
        "playlist_url = \"https://youtube.com/playlist?list=PLctGJos87iQ1-dLNljF-kzTCQgTHWANWc&si=bhlc0Kt_-ApeKwIa\"\n",
        "df_transcripts = main(playlist_url)\n"
      ],
      "metadata": {
        "colab": {
          "base_uri": "https://localhost:8080/"
        },
        "id": "YN9LFyYpYqMO",
        "outputId": "01e64d56-3002-44a6-da72-fdc1dcc00cfd"
      },
      "execution_count": 2,
      "outputs": [
        {
          "output_type": "stream",
          "name": "stdout",
          "text": [
            "Processing playlist: https://youtube.com/playlist?list=PLctGJos87iQ1-dLNljF-kzTCQgTHWANWc&si=bhlc0Kt_-ApeKwIa\n",
            "Found 7 videos in playlist: Bulk RNAseq analysis\n",
            "\n",
            "Fetched: Master Bioinformatics RNAseq Analysis from Scratch: A Beginner's Guide\n",
            "Fetched: How to make a perfect looking heatmap using RNAseq data\n",
            "Fetched: How to make a perfect looking volcano plot using RNAseq data\n",
            "Fetched: Gene Set Enrichment Analysis using RNA Sequencing Data 🧬\n",
            "Fetched: How to preprocess GEO bulk RNAseq fastq file with salmon\n",
            "Fetched: From Salmon to DESeq2: RNAseq Data Analysis\n",
            "Fetched: How to Merge Multiple gene counts Files in R Easily\n",
            "\n",
            "Completed transcripts extraction for 7 videos.\n",
            "Transcript file saved as: bulk_rnaseq_analysis.txt\n"
          ]
        }
      ]
    },
    {
      "cell_type": "code",
      "source": [
        "!head bulk_rnaseq_analysis.txt"
      ],
      "metadata": {
        "colab": {
          "base_uri": "https://localhost:8080/"
        },
        "id": "N8BciZXQYpZ5",
        "outputId": "1ec0c8cf-5c43-42c6-df0b-dfacf887c852"
      },
      "execution_count": 4,
      "outputs": [
        {
          "output_type": "stream",
          "name": "stdout",
          "text": [
            "Playlist Title: Bulk RNAseq analysis\n",
            "\n",
            "Master Bioinformatics RNAseq Analysis from Scratch: A Beginner's Guide\n",
            "hello this is Tommy welcome back to Chad omics so today I'm going to talk about a beginnner b informatics guide for on sequencing analysis in the end I'm going to share with you a course link for for AR sequencing data analysis so you can have some handson uh exercise make sure you stick to the end so first of all what is uh an sequencing uh so by the way if you don't uh know what is an sequencing I highly recommend this video by Josh stammer a gentle introduction on an sequencing so according to the so I also bored the slid from his video so according to the name an sequencing is sequencing the an it's a technology to measure gene expression level uh for all the genes in the genome in in the human genome we have 20,000 genes so it can measure or sequence all genes to ex and to measure the Gen expression level so in this example we have two groups of cells uh bunch of uh normal neuron cells and also a bunch of mutated neuron cells so in um so before actually single single cell AR sequencing it was always a b AR sequencing which means you homogenize all the cells together then you extract RNA from a bunch of cells from here and also extract an from a bunch of mutated cells and then you do reverse transcription to get the cdna and and because uh the the sequencing machine usually measur like short read like ranging from like for example 40 Bas PA to a 200 Bas paare so you need to actually um chop the uh cdna into small pieces and then put on a sequence of machine to to sequence and of course there are more recent technology such as nanop so you can directly actually uh sequence the whole an transcript through the Nano pole again so in this case for example you um you can measure the gene expression for Gene a b c in the normal cells and also ABC in the mutated cells in this case and looks like this Gene B has much higher expression after uh the cells are mutated so un sequencing uh technology is able to find such a change of gene expression in the Gen life scale so what are the basic steps for AR sequencing analysis so I laid out uh five key steps here first you you get the low fastq files from the sequencer so fastq file is the low your reads file uh don't be intimidated by it so it's just a normal text file so for each read it has like four different four lines so one of the lines will be the atcg sequences uh the other one will be the base quality of each of the base call and then once you get the fastq files you want to do quality control so using tools such as fast QC or multi QC those tools so by the way if you are not familiar with those make sure you type the name and Google it so a lot of my learning process is just to Google around and then find more details and uh learn a little bit more so once you did the uh quality control and sometimes you also have the sequence adapters in contaminating your reads and you want to trim them and then uh after you trim those fastq files then you can map the fastq to the transcripton so you know uh those reades is actually derived from which Gene then you do uh Gene quantification uh gene expression quantification so essentially just count how many read for into the axons for a particular G of course there are such uh alignment free tool called Crystal or cman so they can actually quantify the Gen expression with without this baseo base alignment for all those reads rather they are just checking whether a particular read is compatible with the gym model so it's not doing this Spas uh by base action mapping so it's much faster also it turns out to be much accurate so I actually recommend you to use cryistal or salmon for un sequencing uh quantification of course for Downstream ask differential gen expression you will use thec tool which is one of the most popular tool for U the downstream differential gen expression analysis okay let's talk about a little bit about uh quality control so this is the output from Fast QC so one of the most commonly used tool for quality control of your raw fastq files so in this plot so xais will be the position of the basis in this case y to position 40 so the read uh in this case is 40 base pair long and the y axis is the so-called quality score of each base or the Fret quality score and it is calculated by this formula minus 10 * log 10 and p and p is the probability of incorrect base call for example here if one out of 10 is incorrect so the base called accuracy would be 90 and you plug in one1 here this will be 10 then you can calculate if it's one in 100 so the Fret quality will be like 20 and the base core accuracy will be 99% so in this case uh because here it you actually stack all the reads together so for each base uh you have uh you have multiple data points so it's a box plot for example if you if you have 100 100 reads for position one you have 100 data points so and you can see initially the base score quality are very high and they get degraded degradated and when you actually sequence a little bit further which I have seen actually uh data sets have much better quality than this this is just one of the example I found from the internet okay then talk about any s quantification so we align those Reas for example back to the transcripton and then we know okay this G so in this in this example we have two genes here Gene a and Gene B G has three axons and G B has two axons and after we align those W back to the uh transcripton we know okay those reads are from this axon this three reads are from this axon and and those reads are from this Aon and however actually for the Trad addtional an seening processing for those read that fall into this overlapping aons for example in this case a uh G A and G B has the xon that uh that are fully overlap with each other and they cannot differentiate okay whether those re is from this axon or from this Aon so uh one of the option actually for for ht6 or future accounts is to uh discard all the SS because they are ambiguous so in this case so Gene a the quantification will be four read plus three read will be seven and Jin B will be just eight read here however uh as I mentioned Salman or cryst so they can assign those re actually puristic to both gen uh so ideally it will be like four um part three plus four for Gene a and then six + 8 14 14 b um so because uh those tools Salman Crystal take into account of um the gene expression of other axons for example if this axon has zero counts here uh theoretically all those reads should be actually assigned to this axon because if there's no actually act read mapped into this Aon this means like Gene B is more likely silenced and those reads should be from Gene a not Gene B okay and the final output is a count Matrix for Downstream analysis so in this case the rows will be the genes Gene one to Gene M human will be 20,000 some genes and colons will be samples sample one two three and four so in this uh D example we have h two samples for a control group two samples from treatment group and you just look at this like R count count table see it looks like those Gene this Gene n has higher expression than the treatment group and the uh Gene 3 has high expression in the in the uh Gene n has higher expression in the control group and Gene 3 has higher expression in the treatment group so before we do any analysis actually I always want to do a principal component analysis of of PCA so if you don't know what is PCA I have a blog post and walking you through a step by step how to calculate in R and Josh stammer has a uh YouTube video teach you the uh how to understand PCA in a high level and in this case so uh because at a high level you want to actually reduce dimension of this c table like 20,000 by4 uh table into this low Dimension uh so only have two principal components here pc1 and PC2 and It capture the most variant of the data sets so ideally because sample one and Sample two they are control group and three and four are treatment group so they should be separated and Sample one sample two should be more closer to each other so if you happen to see like okay sample one and Sample three are together sample two and Sample four are together it's very likely you introduced batch effect you most likely you you uh uh processed uh maybe uh sample one and Sample three at same time and Sample two and Sample four at the same time so so make sure you talk to a statistician or B or or computational biologist before you actually uh carry out the experiment so they can help you to design experiments to avoid such problems so after we do some like principal components and Analysis we can use dc2 for uh differential gen expression analysis and this is a statistical model based on the nective binomial distribution and and you can see here uh in bioconductor there like over 2,000 some packages and these2 is rank 25 so it's quite popular so one other visualization I really like is called ma plot so the xais here is the mean of the normalized account so each dot here uh each dot here is one gen and the xais is the mean of the normalized counts across all the samples so in this case you have two control two uh two uh treatment group uh samples and then the Y AIS is the lock fold change okay it's one here it means the twofold change twofold increase and you can highlight those dots by whether it's a statistically significant calculated by uh d62 so I really like this uh plot because it also give you an idea how aboundant those genes are for example the genes in here they they are low lowly expressed even though they can have quite High ACC lock to full change but then the mean value of the Gen expression is very low at Baseline so other visualizations is got one of them is called Vol volan plot so XX now is loog to full change similar to to here on the Y AIS and now here the Y AIS the minus log 10 P value so and then you can also highlight those uh genes by uh FDR for example and of course uh so this this actually is generated by this SC called enhanced volano uh B conductor package so you can go and check it out and for of course you will always want want to make a heat map for your AR sequencing data so for heat map so each row here will be Gene each column there will be a sample so in in this uh example then you see some genes are very high in in one of cell lines in those cell lines and and those gen are low in those cell lines so heat map is a pretty uh effective way to visualize uh the gene expression data so so I have a write up here and you can follow the stepbystep tutorial how to make such a heat app okay now as I promised uh you really want to check this uh DIY trans transcriptomics uh on sequencing data analysis course it's quite comprehensive when and if you can follow I'm sure you can uh you can Master how to analyze on data and these two tutorials also quite comprehensive I highly recommend you to read the tutorial uh for U differential gene expression analysis okay that's it for today uh I hope you like this content click subscribe thank you and happy learning\n",
            "\n",
            "How to make a perfect looking heatmap using RNAseq data\n",
            "hello this is Tommy welcome to chat omics so in my previous video I showed you how to make a heat map using the r package complex heat map so in this video I'm going to show you how to make a perfect kidnap using real earning sequencing data so the data set we are going to use is from Geo so by the way this R markdown file will be the link will be in the description of this YouTube video so go and and download it and follow the tutorial so the data set we're going to use is only signaling data of these two genes knockout in sw480 cell line under normalxia and hypoxia so sw480 is a colon cancer adenocarcinoma cancer cell line and you see here there are multiple electric conditions here so they they have the S grna control and also the The sgr Knockout so just for Simplicity we will focus on the control condition so there's no knockout but let's compare hypoxic condition versus normal amoxic condition so you can directly click here and download account Matrix but let me show you how to download this account actually in the command line from the FTP so in in this link I show you how to download geodata from command line from the FTP site so according to this instruction and you will see the data actually resides in this link so the link is also file so what we will do we'll use wget to download the file so let's go to the folder so this is usually I set up the projects so in I have a data folder I can only contain the raw data the results folder contains the figures or intermediate results and scripts contains contains the all the markdown files so let's change directory to the data folder CD director CD data and press enter so if you do LS again there's nothing there and let's copy this command and press enter so YouTube Eros again you see this file is downloaded to your local computer you download a file usually on command line I will look at how the data looks like so using less commands because this is a complex compressed file I will use zlas capital s so this chapter as the option so it will not actually wrap the the lines if it's too too long so we can I can show you how it looks like use this so essentially we have a the First Column is the gene Colin and the other columns are the samples and those entries are just the glue accounts for each sample for each gene so you can press Q to quit so if we if you don't use the dash capital s argument and just use zlax and you see because the first row is too long and now it's wrapped so that's why I always use z-last and dash capital S to look at a big file going to actually show you some other very useful command line utility called csvtk and you can download you can install it from this link here and this is a tool to deal with CSV file and gsv files on the command line so I will use the CSV priority command and dash T tells it's a tab the limit file and let's do it on the command line and now you see and you can use a left arrow and the right arrow to move around the file and you see now it's aligned really well okay press cute to quit and the next command is called CSV GK headers and it will show you all the column names from this file so the First Column is Gene the rest the sample names and for the demo purpose I will only use this two sample and and also this two sample on the hypoxia condition so what we will use is use the CSV cfcsvtk card command and the First Column is the gene colon and the rest for columns are the four samples I pipe It To The Head command to to see how it looks like before I save it so yeah it is as expected the first color is Gene the rest for columns other four samples that we are going to use for this demo okay so now we will save it into a new file so in now I use this greater than sign and save this file this new file into the rockcast.jsv file instead of printing out in the terminal here okay so it's not printing out anything and if you do as a LS to to list all the files again then you see these new files here okay and this is the file that we're going to use for uh for d62 to find differential expressed genes between hypoxia versus amoxia okay let's go back to R first let's load those libraries and read and this log counts file into a data frame okay so here I use this function called here so here is a little magic here so this one will if you just run this command it will show you the full path for this file on your local computer so on your computer I mean the first this path here may be different right because this is all my own computer but if you do git clone of the whole Repository all right this tutorial directory and if you run the same command like here here it will figure out the the for the absolute path on your own computer so this command works on my computer but it also works on your computer so it it increased the reproducibility of your or your scripts so after you read into uh State frame always look at the first six rows using head command and this is as expected and now we will actually turn this data frame into a matrix so we actually remove the First Column here and turn it to a matrix let's take a look okay now it removed the First Column but we want to add the row names as the as the gene names so let's do this and let's look at again now the row names are the gene names column names are the sample names and this is ready uh for e62 so but before that we also need to make a data frame for the metadata so uh just indicate this first two samples are an amoxia condition and the next two are hypoxic condition so I just like a new data frame this is a data frame with a single column and we want to add row names as the sample names now look at so now it's a single column data frame with your hypox hypoxia with corresponding sample name as the row names now we can follow the d62 tutorial I highly recommend you to read the online tutorial it's quite comprehensive and okay so we just fit the card Matrix and the metadata into D6 data set from Matrix function and design essentially just tell the sign and condition so we want to compare hypoxia versus pneumoxia so those are all a routine d62 processing steps so you can just follow it we run these sick and then we run the differential expression so just one note here so here you have you want to specify the contrast so this format so you can read The Help for this function results and you see how to specify the contrast here so this is just a character Vector of three elements this is the column name of I feel uh metadata that you want to use and then hypoxia is the numerator and the nomoxia is your denominator so you want to compare hypoxia versus normoxia okay let's look at the first like 30 rows of the differential expressed gymnasts so your turn first I turn it to a data frame and then arrange rows by adjust the p-value and then the lock to full change those are the first like 30 genes that I identified differential expressed between hypoxia versus normoxia so for any data analysis you always want to double check during your analysis so see okay if you see this Gene is the most differential expressed with really a big lock to flow changes small P value and adjust the p-value you want to see whether it's real or not right so you'll see oh hypoxia indeed you see igf bp3 is a hypoxia inducible G that indicates your analysis probably is is good and I also see a for example pgk when I know this is a known hypox inducible Gene it's also in the top Gene list okay now we will actually select the significant genes just from this table sorry I use this period adjustment values more than 0.01 and absolute log to 14 degrees or equal than two and this is kind of arbitrary so you can Define by yourself okay see how many how many significant genes that left after we filled at the table okay around 600. 20 some genes here so we will table it first for now and we will use those genes to to make perfectly mapping the end so I would like to do actually some principal component analysis for any data and as I would do that just to uh to verify whether the experiment works or not so we first run the VST function to uh to do a normalization so we can do plot in ec2 that is functional plot PCA and we can write and in this PC you see the first principle component explains almost all the variants here and you see those two samples are on the hypoxia close to each other and those two on the nomoxia puts each other so this purpose shows you this experiment worked and your analysis is good of course PCA just a wrapper from d62 so you can always make a PC plot by yourself so what you can do you can first get to normalized accounts using this this line of code and then you can calculate the principal components using PR comp this function so remember if you don't know how to use it or we use a question mark PR comp to find help so and if you look at the names of the and this object after you calculate PCA they are like extend STD rotation Center scale and x and what we'll use is the X component here so the first component pc1 and second component PC2 here and to make the same actually a PCA plot like this okay we just make create a new data frame and those two just contain the two principal components and then just some simple like a ggplot2 function and you see actually those two those two uh hypoxia condition those two samples are on the hypoxic condition 0 1 0 2 those are on the normal oxidation if and it it looks very similar to the old principle component plot from d62 but it's not almost the same right I mean the x-axis looks like very similar to scale but the y-axis is a little bit different so what's going on so so if you look at help of flat PCA and you'll see actually it's using the top 500 genes for for running the PCA so in d62 and in our own customized analysis we are using all the genes so in fact if you go to this link and look at the source code of dc2 you'll see how to select the top 500 the default like the most playable GNC if you follow that it was you will actually have the same results okay now let's uh make a perfect heat map now this is time okay so so we still use normalized accounts The Matrix but now we are only subsetting the significant genes this 600 some genes so if we run this line of code and if you look at the dimension of this Matrix is 623 genes and four samples two amoxia and two hypoxia so in my last video I also show you how why we need to scale the data right so let's uh if you if you don't know why we're doing this like go back to the previous video I will have a link in the description and then you will need to watch the old video so let's do that using heat map with capital H from the complex heat map package see so now you get the actually a perfect looking heat map right so those jeans those two samples are hypoxia those two genes those two samples on the hypoxia those two examples are 100 nomoxia and you see those genes are upright actually those genes are down regularly in the hypoxic condition and those genes are upregulated in the hypoxic condition right so this is really a perfect looking heat map right but it really it is because that we select those genes by performing the differential expression tests first so there's no surprise at all that we have a perfectly perfect looking heat map okay so we can do a little bit more to just make it a little bit prettier for example remove the row names and also add a a colon annotation to show okay which are the which samples are on the nomoxium which are samples on the hypoxia no we we can read it from the the sample name but it would be nice to have a row a column annotation bar here so in complex heat map it's really easy actually to to add those color annotations so remember this data frame that we use the metadata we used when we make construct the dc2 object so in complex heat map you can use this function called heat map annotation you can supply a data frame and into the first argument and then you can specify the call the colors for each of the condition for example you can say okay red is hypoxia and blue is namoxia okay you do that we don't need this okay so let's do the heat map again but now we actually Supply this call annotation call an annotation into this top annotation arguments and it will show role names for us because there are too many G names here and keep the the heat map a nicer name here okay let's do it see now it looks much better now you have this row uh this column bars here to show this is from hypoxia those two samples from the marks here and as I mentioned that scaling is important because if we don't scale the data for example like we just use the significant Matrix and see how it looks like now it's showing the raw the scale uh actually not scale they have the normalized expression value but then you you can't see the differences between those two conditions because the purpose of scale is is really to make the the genes that show in the same pattern they're high in amoxia or low in amoxia high in hypoxia or low in hypoxia they're really distinct so if you do scaling because you do the scaling across all the samples for the same G okay that's try it again yeah it's really fulfilling to see a perfect looking complex hit map okay that's it for today I hope you enjoy it if you like this content Please Subscribe and also leave comments I will make more videos that you want\n",
            "\n",
            "How to make a perfect looking volcano plot using RNAseq data\n",
            "hello this is Tommy welcome to genomics so in today's video I'm going to show you how to make a volcano plot using Army sequencing data so in my last video using any sequence data comparing a cell line under hypoxia versus normoxia I showed you how to make a heat map using the same data so this is just a continuation of the last video so please check the video description of this video to watch the last video if you want so I'm going to just copy all the code from the last video and undergo the DC analysis the routine steps to find differential gene expression so I load some libraries and read in the accounts make a sample sheet and also make a d62 object and then use the results function in d62 to find differential Express genes comparing hypoxia versus pneumoxia so we will take a couple of seconds here okay it's done so we look at the first six rows of this uh result objects from dc2 and essentially each row will be one gene and there's some columns here for example the important ones we want to look at is the p-value the adjusted p-value and log to full change okay so now we have this results uh object and we are ready to make a volcano plot so what is a volcano plot so essentially just a scatter plot then x-axis is the lock to flow change and the y-axis is the minus log 10 p-value so for example if the p-value is 10 to the minus 5 after you do this log transformation will become Phi okay let's make a basic volcano plot so first you want to actually convert this results object into a data frame using s dot data frame function then you'll pipe it into ggplot2 so ggplot2 is is an r package that is really useful for data visualization if you know the master the basics of ggplot2 you can essentially make any plots that you want okay so we first specify the Aesthetics so X the x-axis is a log 2 full change from this data frame and a y-axis is the minus log 10 and P value in this column and then using the geometry point so let's see how it looks for this basic volcano plot and you see the plot here so its name volcano plot because it looks like a volcano here okay the first like after you see some figures you want to actually identify whether there are any weird things here in the class for example what's going on for those points here so let's look at actually uh the original data and to see what's going on here so we actually arrange data frame based on the p-value and also the lock to flow change and look at the first 30 rows okay and then you see for the first and maybe 20 some rows the the those p p values they're all zero so essentially after you do the lock for a transformation they become infinity and in ggplot2 you say it would um actually just plot like this so meaning those are infinite infinitive big okay so now we can make modifications upon this basic volcano plot for example you want to label the genes that you want to label and to do this so we're first using the original data frame for first convert this results objects to a data frame and then you see actually this data frame has row names here uh those Road names are the gene names and you want actually put the gene names into one of the columns so in table this function called row names to colon and you specify the column name one two you want to use so and I and just buy a visual inspection inspection I'll notice that there are many languages starting with loc they are differentially expressed and I don't actually I'm not interested in those so I filtered those out so um this function from the string r package so stir detect Gene so if I see a gene contains loc and I will fill them up and also I filter based on the log24 change absolute laptop version gradient or equal than 4 and P adjustment values more than 0.01 and by the way this is kind of arbitrary and the the reason that I'm using really stringent criteria because this data is contained a lot of significant uh regulated genes on hypoxia so I don't want to if you label all of them it's kind of messy so let's see how many of those genes are so we end up with 63 genes not too bad so the next step we need to save this this new data frame into an into a new variable called results significant so the same code here but I save it as a new data frame okay so now we can label those genes same plot the same code here as we do based for this basic mechano plot but what we do we add another function called geom label and for this Geo label the data we're going to use is the one that we already filtered out the significant results a data frame and then we specified Aesthetics of label to the gene the column that we want to label and let's see how it looks like and now we see oh those genes now we have labels okay but again here is clouded here crowded because there's too many genes here so how do we fix that oh by the way we use those filter functions like to filter down the final Gene list that we want to actually label but essentially you can do any sort of like a filtering and even just specify the genes that you are really interested or you know that are differentially expressed or or play a biological function so for example you can do filter genes equals to or or this genes in some of the gene lists that you specify so and you can label that so really it's very flexible you can label any importance any genes that you want okay next let's actually fix the overlapping label problem using a new package called GG repair so if you haven't installed use this function installed a package to install it and the load Library the only difference between this code which this code just to replace the Geo label which is in ggplot2 function the package with digit repel jump label repair and the rest is the same so let's see how it looks like now you see it's much cleaner now like it and each label they are not overlapping with each other and there's some warnings here 40 of them are not labeled because they're just too crowded here and you can actually specify the Max overlaps and then to actually further label those points if you want okay now it's decent looking and we also want to color those points which are significantly expressed okay to do this actually we need to make a new data frame based on the original data frame for example we need to actually add a new column here called significant and use the case when function to actually specify that column so if the genes they're not those long long dnas and also meets those criterials lock to flow change grid and equal than four appear adjustment value smaller than 0.01 then that that row will become significant and otherwise will be not significant okay let's just run this and look at the data frame so it would be the same data frame here but now we have another extra column here classic and if if H meets all those criteria it will be significant otherwise be not significant and now we can add the colors here so the only difference is here we now specify the Aesthetics a color equals to significant let's see how it looks like now all right oh now the points are covered by but the color maybe we want to flip it because we want probably red ones to be the significant ones the blue ones or this kind of uh colors to to be like a non non-significant ones so what you can do so you can use scale column menu and then you can specify the values manually for example you can set the first blue be the non-significant and red would be the significant okay so let's run this okay now it's what we want so the red ones are the significantly regulated genes the blue ones are not they're based on a certain criteria that you set so one more last thing so we want to add some horizontal lines or vertical lines to show the p-value color for the lock to full change color of so you only need to add to two lines here Geo horizontal line and the vertical line then you can specify the y-intercept and then the x intercept this minus four four those are the four change the colors that we use we used a line type equals to meaning using the dashed line rather than the solid line and you can specify the line of the color too so let's see how it looks yeah now we have we have added all three lines colored points and also label the points I hope you learned how to make a really good looking volcano plot through this video and by the way all the code link will be in the description of this video make sure you you check it out and lastly there's a package called enhanced volcano plot spiral conductor package and you can do many of those powerful visualizations if you want further customize your volcano plot okay that's it for today and I hope you enjoyed click subscribe if you like this and see you next time\n"
          ]
        }
      ]
    }
  ]
}